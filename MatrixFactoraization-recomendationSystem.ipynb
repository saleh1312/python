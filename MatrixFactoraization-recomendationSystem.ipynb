{
  "nbformat": 4,
  "nbformat_minor": 0,
  "metadata": {
    "colab": {
      "name": "Untitled4.ipynb",
      "provenance": [],
      "authorship_tag": "ABX9TyOOjU9rEfoipwsKAlvY0Qng",
      "include_colab_link": true
    },
    "kernelspec": {
      "name": "python3",
      "display_name": "Python 3"
    },
    "language_info": {
      "name": "python"
    },
    "accelerator": "GPU"
  },
  "cells": [
    {
      "cell_type": "markdown",
      "metadata": {
        "id": "view-in-github",
        "colab_type": "text"
      },
      "source": [
        "<a href=\"https://colab.research.google.com/github/saleh1312/python/blob/master/MatrixFactoraization-recomendationSystem.ipynb\" target=\"_parent\"><img src=\"https://colab.research.google.com/assets/colab-badge.svg\" alt=\"Open In Colab\"/></a>"
      ]
    },
    {
      "cell_type": "code",
      "metadata": {
        "id": "f1izIksBURvu"
      },
      "source": [
        "import tensorflow as tf\n",
        "import numpy as np\n",
        "import cv2\n",
        "import tensorflow.keras.backend as k"
      ],
      "execution_count": 1,
      "outputs": []
    },
    {
      "cell_type": "code",
      "metadata": {
        "id": "XicNDUmFUZHx"
      },
      "source": [
        "data=np.array([[5,2,4,2,1],\n",
        "               [-1,4,3,1,5],\n",
        "               [4,-1,-1,2,3],\n",
        "               [2,3,1,5,3],\n",
        "               [3,5,-1,-1,-1],\n",
        "               [-1,5,2,5,5],\n",
        "               [5,-1,5,-1,4]]).astype(np.float32)\n",
        "\n",
        "mask=(data>-1)\n",
        "data =data / 5"
      ],
      "execution_count": 121,
      "outputs": []
    },
    {
      "cell_type": "code",
      "metadata": {
        "id": "cz5Gp56_9k4t"
      },
      "source": [
        "y_target=tf.boolean_mask(data, mask)"
      ],
      "execution_count": 122,
      "outputs": []
    },
    {
      "cell_type": "code",
      "metadata": {
        "colab": {
          "base_uri": "https://localhost:8080/"
        },
        "id": "ac1ZfTJ6WFN9",
        "outputId": "6c39a0bf-4810-4f7d-ed51-f7dd72eb3f73"
      },
      "source": [
        "films=tf.Variable(np.random.uniform(low=0.0, high=1.0, size=(7,5)).astype(np.float32))\n",
        "films"
      ],
      "execution_count": 124,
      "outputs": [
        {
          "output_type": "execute_result",
          "data": {
            "text/plain": [
              "<tf.Variable 'Variable:0' shape=(7, 5) dtype=float32, numpy=\n",
              "array([[0.5414501 , 0.20761482, 0.7979041 , 0.48705366, 0.3432371 ],\n",
              "       [0.26305208, 0.3520349 , 0.55210805, 0.4700298 , 0.1254028 ],\n",
              "       [0.45689082, 0.3806217 , 0.4938227 , 0.33641848, 0.22209677],\n",
              "       [0.9742416 , 0.05751273, 0.40599236, 0.7274672 , 0.03373897],\n",
              "       [0.12381041, 0.4942705 , 0.19637811, 0.49404937, 0.69338566],\n",
              "       [0.31638527, 0.1694532 , 0.7739914 , 0.04394559, 0.92674416],\n",
              "       [0.56123614, 0.91142756, 0.6994075 , 0.37577876, 0.11467991]],\n",
              "      dtype=float32)>"
            ]
          },
          "metadata": {},
          "execution_count": 124
        }
      ]
    },
    {
      "cell_type": "code",
      "metadata": {
        "colab": {
          "base_uri": "https://localhost:8080/"
        },
        "id": "dUD2t6y-WpDf",
        "outputId": "4e53b265-f900-4689-bf03-9711101272e6"
      },
      "source": [
        "users=tf.Variable(np.random.uniform(low=0.0, high=1.0, size=(7,7)).astype(np.float32))\n",
        "users"
      ],
      "execution_count": 125,
      "outputs": [
        {
          "output_type": "execute_result",
          "data": {
            "text/plain": [
              "<tf.Variable 'Variable:0' shape=(7, 7) dtype=float32, numpy=\n",
              "array([[0.6753345 , 0.9091442 , 0.28773135, 0.1553326 , 0.49383196,\n",
              "        0.09084669, 0.14812168],\n",
              "       [0.06413612, 0.5541661 , 0.32486966, 0.28466547, 0.80868924,\n",
              "        0.85941195, 0.90848064],\n",
              "       [0.6232868 , 0.18379936, 0.7867168 , 0.8553033 , 0.3738321 ,\n",
              "        0.90490854, 0.6077459 ],\n",
              "       [0.07935275, 0.5774294 , 0.11546595, 0.77276635, 0.6609811 ,\n",
              "        0.01235631, 0.23709019],\n",
              "       [0.39078894, 0.29075584, 0.26809365, 0.01870293, 0.9175325 ,\n",
              "        0.8051551 , 0.3988286 ],\n",
              "       [0.6138736 , 0.35677242, 0.23539314, 0.14652227, 0.64612967,\n",
              "        0.21974854, 0.8952959 ],\n",
              "       [0.98663455, 0.17338447, 0.06824706, 0.45936385, 0.13494007,\n",
              "        0.20796175, 0.3196338 ]], dtype=float32)>"
            ]
          },
          "metadata": {},
          "execution_count": 125
        }
      ]
    },
    {
      "cell_type": "code",
      "metadata": {
        "id": "rh03lL4BaIIX"
      },
      "source": [
        "opt1 = tf.keras.optimizers.Adam(learning_rate=0.001)\n",
        "opt2 = tf.keras.optimizers.Adam(learning_rate=0.001)\n",
        "loss=tf.keras.losses.MeanSquaredError()"
      ],
      "execution_count": 126,
      "outputs": []
    },
    {
      "cell_type": "code",
      "metadata": {
        "id": "TkTjPc6P9N5d"
      },
      "source": [
        "def loss3(y_pred):\n",
        "  # loss for rating values ( that not non )\n",
        "  y1=tf.boolean_mask(y_pred, mask)\n",
        "  l=loss(y_target,y1)\n",
        "  #loss for make sure that the predicted values are between (0-1)\n",
        "  yy=y_pred.numpy()\n",
        "  mask2=(yy<0) + (yy>1)\n",
        "  yt = yy[mask2]\n",
        "  l2=0\n",
        "  for i in range(yt.shape[0]):\n",
        "    if yt[i] <0:\n",
        "      l2 += np.abs(yt[i]-0)\n",
        "    if yt[i] >1:\n",
        "      l2 += np.abs(yt[i]-1)\n",
        "  return (l+l2)"
      ],
      "execution_count": 129,
      "outputs": []
    },
    {
      "cell_type": "code",
      "metadata": {
        "id": "kDLg8u1EWufj",
        "colab": {
          "base_uri": "https://localhost:8080/"
        },
        "outputId": "2416913a-d332-4757-c997-6f426f963bbf"
      },
      "source": [
        "for e in range(1):\n",
        "  with tf.GradientTape() as tapef,tf.GradientTape() as tapeu:\n",
        "    y_pred=tf.matmul(users,films)\n",
        "    l=loss3(y_pred)\n",
        "  gf=tapef.gradient(l,films)\n",
        "  gu=tapeu.gradient(l,users)\n",
        "  opt1.apply_gradients([(gf, films)]) \n",
        "  opt2.apply_gradients([(gu, users)]) "
      ],
      "execution_count": 128,
      "outputs": [
        {
          "output_type": "stream",
          "text": [
            "tf.Tensor(0.6272243, shape=(), dtype=float32)\n",
            "tf.Tensor(14.617244, shape=(), dtype=float32)\n"
          ],
          "name": "stdout"
        }
      ]
    },
    {
      "cell_type": "code",
      "metadata": {
        "id": "e7MVKG5VqLHj"
      },
      "source": [
        "y_pred2=tf.matmul(users,films)"
      ],
      "execution_count": 107,
      "outputs": []
    },
    {
      "cell_type": "code",
      "metadata": {
        "colab": {
          "base_uri": "https://localhost:8080/"
        },
        "id": "kEqRgnE3qq7j",
        "outputId": "9d8e4b8e-6663-4062-c614-bf76314aad3e"
      },
      "source": [
        "np.round(np.array(y_pred2*5))"
      ],
      "execution_count": 117,
      "outputs": [
        {
          "output_type": "execute_result",
          "data": {
            "text/plain": [
              "array([[5., 2., 4., 4., 1.],\n",
              "       [4., 4., 3., 1., 5.],\n",
              "       [4., 3., 2., 2., 3.],\n",
              "       [2., 3., 1., 5., 3.],\n",
              "       [3., 5., 3., 3., 4.],\n",
              "       [4., 5., 2., 5., 5.],\n",
              "       [5., 4., 5., 3., 4.]], dtype=float32)"
            ]
          },
          "metadata": {},
          "execution_count": 117
        }
      ]
    },
    {
      "cell_type": "code",
      "metadata": {
        "colab": {
          "base_uri": "https://localhost:8080/"
        },
        "id": "7Lxs208v_rNg",
        "outputId": "da021158-4a59-40e1-d1f1-0c9522cf362e"
      },
      "source": [
        "data*5"
      ],
      "execution_count": 118,
      "outputs": [
        {
          "output_type": "execute_result",
          "data": {
            "text/plain": [
              "array([[ 5.,  2.,  4.,  4.,  1.],\n",
              "       [-1.,  4.,  3.,  1.,  5.],\n",
              "       [ 4., -1., -1.,  2.,  3.],\n",
              "       [ 2.,  3.,  1.,  5.,  3.],\n",
              "       [ 3.,  5., -1., -1., -1.],\n",
              "       [-1.,  5.,  2.,  5.,  5.],\n",
              "       [ 5., -1.,  5., -1.,  4.]], dtype=float32)"
            ]
          },
          "metadata": {},
          "execution_count": 118
        }
      ]
    },
    {
      "cell_type": "code",
      "metadata": {
        "id": "F5WhjNUvDSkH",
        "colab": {
          "base_uri": "https://localhost:8080/"
        },
        "outputId": "81542fa6-a26a-46c8-f368-a14085d65125"
      },
      "source": [
        "films"
      ],
      "execution_count": 30,
      "outputs": [
        {
          "output_type": "execute_result",
          "data": {
            "text/plain": [
              "<tf.Variable 'Variable:0' shape=(4, 5) dtype=float32, numpy=\n",
              "array([[ 0.7803039 ,  0.00301696,  0.9268055 ,  0.554033  , -0.19402176],\n",
              "       [ 0.7640087 ,  0.22431912,  0.2368499 , -0.95948416,  0.51974463],\n",
              "       [-0.24688153,  0.47026202,  1.0612776 ,  0.29939815,  0.6426111 ],\n",
              "       [ 0.3338119 ,  0.72327495,  0.01115159,  0.85312814,  0.6183024 ]],\n",
              "      dtype=float32)>"
            ]
          },
          "metadata": {},
          "execution_count": 30
        }
      ]
    },
    {
      "cell_type": "code",
      "metadata": {
        "colab": {
          "base_uri": "https://localhost:8080/"
        },
        "id": "8Z_wpH-GIPVL",
        "outputId": "ea7bc10a-20e0-4f2d-841f-0e626c06f9c2"
      },
      "source": [
        "users"
      ],
      "execution_count": 31,
      "outputs": [
        {
          "output_type": "execute_result",
          "data": {
            "text/plain": [
              "<tf.Variable 'Variable:0' shape=(7, 4) dtype=float32, numpy=\n",
              "array([[ 0.88876927,  0.14413804, -0.06020005,  0.5438025 ],\n",
              "       [-0.1792834 ,  0.39600515,  0.6275198 ,  0.5760334 ],\n",
              "       [-0.38750985,  1.9036046 ,  0.5340571 , -0.6594857 ],\n",
              "       [ 0.9495229 , -0.06855679,  1.2312821 ,  0.04634057],\n",
              "       [ 0.3465229 , -0.02025542,  0.25445184,  1.2220329 ],\n",
              "       [-0.16392809, -0.03481996,  0.5167398 ,  1.0581362 ],\n",
              "       [ 0.59002894,  0.478593  ,  0.3123135 ,  0.75216186]],\n",
              "      dtype=float32)>"
            ]
          },
          "metadata": {},
          "execution_count": 31
        }
      ]
    },
    {
      "cell_type": "code",
      "metadata": {
        "id": "torwujv-ITDq"
      },
      "source": [
        ""
      ],
      "execution_count": null,
      "outputs": []
    }
  ]
}