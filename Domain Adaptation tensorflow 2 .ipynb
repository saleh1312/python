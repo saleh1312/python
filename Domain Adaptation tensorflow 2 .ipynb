{
  "nbformat": 4,
  "nbformat_minor": 0,
  "metadata": {
    "accelerator": "GPU",
    "colab": {
      "name": "mnistm.ipynb",
      "provenance": [],
      "collapsed_sections": [],
      "mount_file_id": "1C09uCfVSEcu-KNmFfi_iAStOOaCiMtCI",
      "authorship_tag": "ABX9TyO4umzo/ZynV7s3Kp1bKF9S",
      "include_colab_link": true
    },
    "kernelspec": {
      "display_name": "Python 3",
      "name": "python3"
    },
    "language_info": {
      "name": "python"
    }
  },
  "cells": [
    {
      "cell_type": "markdown",
      "metadata": {
        "id": "view-in-github",
        "colab_type": "text"
      },
      "source": [
        "<a href=\"https://colab.research.google.com/github/saleh1312/python/blob/master/Domain%20Adaptation%20tensorflow%202%20.ipynb\" target=\"_parent\"><img src=\"https://colab.research.google.com/assets/colab-badge.svg\" alt=\"Open In Colab\"/></a>"
      ]
    },
    {
      "cell_type": "code",
      "metadata": {
        "id": "dMJ-6Cv7nBvF"
      },
      "source": [
        "import tensorflow as tf\n",
        "import numpy as np\n",
        "import pickle\n",
        "from sklearn.utils import shuffle\n",
        "import matplotlib.pyplot as plt\n",
        "from sklearn.preprocessing import OneHotEncoder as onehot"
      ],
      "execution_count": 1,
      "outputs": []
    },
    {
      "cell_type": "code",
      "metadata": {
        "colab": {
          "base_uri": "https://localhost:8080/"
        },
        "id": "Pdpkt6b3nPL4",
        "outputId": "38970a3c-3536-4260-da42-a6c23218eba1"
      },
      "source": [
        "(xmnist, ymnist), (_,_P)= tf.keras.datasets.mnist.load_data()\n",
        "xmnist=np.reshape(xmnist,(xmnist.shape[0],xmnist.shape[1],xmnist.shape[2],1))\n",
        "xmnist=xmnist.astype(np.float32)\n",
        "xmnist=np.concatenate((xmnist, xmnist,xmnist), axis=3)\n",
        "ymnist=tf.keras.utils.to_categorical(ymnist)"
      ],
      "execution_count": 2,
      "outputs": [
        {
          "output_type": "stream",
          "text": [
            "Downloading data from https://storage.googleapis.com/tensorflow/tf-keras-datasets/mnist.npz\n",
            "11493376/11490434 [==============================] - 0s 0us/step\n"
          ],
          "name": "stdout"
        }
      ]
    },
    {
      "cell_type": "code",
      "metadata": {
        "id": "HaLlwLPFnTGz"
      },
      "source": [
        "with open('/content/drive/MyDrive/keras_mnistm.pkl', 'rb') as f:\n",
        "    u = pickle._Unpickler(f)\n",
        "    u.encoding = 'latin1'\n",
        "    p = u.load()\n",
        "xmnistm=p['train']\n",
        "xmnistm=xmnistm.astype(np.float32)"
      ],
      "execution_count": 3,
      "outputs": []
    },
    {
      "cell_type": "code",
      "metadata": {
        "id": "ILiRK0YTnVZK"
      },
      "source": [
        "xm=xmnist.copy()\n",
        "ym=ymnist.copy()\n",
        "xmm=np.vstack([xmnist,xmnistm])\n",
        "ymm=np.vstack([np.ones((60000,1)),np.zeros((60000,1))]).astype(np.float64)\n",
        "ymm2=np.vstack([ym,ym])\n",
        "ymm=tf.keras.utils.to_categorical(ymm)"
      ],
      "execution_count": 4,
      "outputs": []
    },
    {
      "cell_type": "code",
      "metadata": {
        "id": "Sw5yhSLR1kRB"
      },
      "source": [
        "xmm,ymm,ymm2=shuffle(xmm,ymm,ymm2)"
      ],
      "execution_count": 5,
      "outputs": []
    },
    {
      "cell_type": "code",
      "metadata": {
        "id": "jPApCNCPJ3Ol"
      },
      "source": [
        ""
      ],
      "execution_count": null,
      "outputs": []
    },
    {
      "cell_type": "code",
      "metadata": {
        "id": "_ehLeqYoJ3mz"
      },
      "source": [
        ""
      ],
      "execution_count": null,
      "outputs": []
    },
    {
      "cell_type": "code",
      "metadata": {
        "id": "zhTPdgal71lK"
      },
      "source": [
        "class FeatureGenerator(tf.keras.Model):\n",
        "  def __init__(self):\n",
        "    super(FeatureGenerator, self).__init__() \n",
        "    self.normalise = lambda x:x / 255.0\n",
        "    self.conv1 = tf.keras.layers.Conv2D(64, 5, activation='relu')\n",
        "    self.conv2 = tf.keras.layers.Conv2D(128, 5, activation='relu')\n",
        "    self.maxpool = tf.keras.layers.MaxPool2D(2)\n",
        "    self.flatten = tf.keras.layers.Flatten()\n",
        "    \n",
        "  def call(self, x):\n",
        "    x = self.normalise(x)\n",
        "    x = self.conv1(x)\n",
        "    x = self.conv2(x)\n",
        "    x = self.maxpool(x)\n",
        "\n",
        "    return self.flatten(x)\n",
        "\n",
        "encoder = FeatureGenerator()"
      ],
      "execution_count": 6,
      "outputs": []
    },
    {
      "cell_type": "code",
      "metadata": {
        "id": "P8m3j2Kd8MzU"
      },
      "source": [
        "class label(tf.keras.Model):\n",
        "  def __init__(self):\n",
        "    super(label, self).__init__() \n",
        "\n",
        "    self.d1 = tf.keras.layers.Dense(128,activation='relu')\n",
        "    self.d2 = tf.keras.layers.Dense(10,activation='softmax')\n",
        "    \n",
        "  def call(self, x):\n",
        "    x = self.d1(x)\n",
        "    x = self.d2(x)\n",
        "    return x\n",
        "\n",
        "clas = label()"
      ],
      "execution_count": 7,
      "outputs": []
    },
    {
      "cell_type": "code",
      "metadata": {
        "id": "tjNqaace8je0"
      },
      "source": [
        "class domain(tf.keras.Model):\n",
        "  def __init__(self):\n",
        "    super(domain, self).__init__() \n",
        "\n",
        "    self.d1 = tf.keras.layers.Dense(64,activation='relu')\n",
        "    self.d2 = tf.keras.layers.Dense(2,activation='softmax')\n",
        "    \n",
        "  def call(self, x):\n",
        "    x = self.d1(x)\n",
        "    x = self.d2(x)\n",
        "    return x\n",
        "\n",
        "dis = domain()"
      ],
      "execution_count": 8,
      "outputs": []
    },
    {
      "cell_type": "code",
      "metadata": {
        "id": "cZsUfUaYOrDI"
      },
      "source": [
        "mnsistmacc=tf.keras.metrics.CategoricalAccuracy()\n",
        "mnsistacc=tf.keras.metrics.CategoricalAccuracy()\n",
        "loss=tf.keras.losses.CategoricalCrossentropy()\n",
        "d_optimizer = tf.keras.optimizers.Adam(learning_rate=0.001)\n",
        "f_optimizer = tf.keras.optimizers.Adam(learning_rate=0.001)\n",
        "c_optimizer = tf.keras.optimizers.Adam(learning_rate=0.001)"
      ],
      "execution_count": 9,
      "outputs": []
    },
    {
      "cell_type": "code",
      "metadata": {
        "id": "Xlsrtpxpn9TW"
      },
      "source": [
        "def train_step(x1,y1,x2,y2,alpha=0.5):\n",
        "  with tf.GradientTape() as tapegc ,tf.GradientTape() as tapegd , tf.GradientTape() as tapec:\n",
        "    ff=encoder(x1, training=True)\n",
        "    yc=clas(ff, training=True)\n",
        "    lossc=loss(y1,yc)\n",
        "\n",
        "    ff2=encoder(x2, training=True)\n",
        "    yc2=dis(ff2, training=True)\n",
        "    lossd=loss(y2,yc2)\n",
        "\n",
        "  f_gradients_on_label_loss = tapegc.gradient(lossc, encoder.trainable_variables)\n",
        "  f_gradients_on_domain_loss = tapegd.gradient(lossd, encoder.trainable_variables)    \n",
        "  f_gradients = [f_gradients_on_label_loss[i] - alpha*f_gradients_on_domain_loss[\n",
        "      i] for i in range(len(f_gradients_on_domain_loss))]\n",
        "\n",
        "    \n",
        "  l_gradients = tapec.gradient(lossc, clas.trainable_variables)\n",
        "\n",
        "  f_optimizer.apply_gradients(zip(f_gradients+l_gradients, \n",
        "                                  encoder.trainable_variables+clas.trainable_variables)) \n",
        "  \n",
        "  with tf.GradientTape() as taped:\n",
        "    features = encoder(x2, training=True)\n",
        "    d_predictions = dis(features, training=True)\n",
        "    domain_loss = loss(y2, d_predictions)\n",
        "  #####\n",
        "   \n",
        "  d_gradients = taped.gradient(domain_loss, dis.trainable_variables)  \n",
        "  d_gradients = [alpha*i for i in d_gradients]\n",
        "  d_optimizer.apply_gradients(zip(d_gradients, dis.trainable_variables))"
      ],
      "execution_count": 10,
      "outputs": []
    },
    {
      "cell_type": "code",
      "metadata": {
        "id": "XsxAM-qCqmyS"
      },
      "source": [
        "def test(x1,x2,y):\n",
        "  d=encoder(x1)\n",
        "  c=clas(d)\n",
        "  mnsistacc.update_state(y,c)\n",
        "  d=encoder(x2)\n",
        "  c=clas(d)\n",
        "  mnsistmacc.update_state(y,c)"
      ],
      "execution_count": 11,
      "outputs": []
    },
    {
      "cell_type": "code",
      "metadata": {
        "id": "fyvMMrq7p4Cd"
      },
      "source": [
        "def train(epochs):\n",
        "  for e in range(epochs):\n",
        "    mnsistmacc.reset_state()\n",
        "    mnsistacc.reset_state()\n",
        "    for i in range(0,60000,32):\n",
        "      x1=xm[i:i+32]\n",
        "      y1=ym[i:i+32]\n",
        "      x2=xmm[i:i+32]\n",
        "      y2=ymm[i:i+32]\n",
        "      train_step(x1,y1,x2,y2)\n",
        "\n",
        "    for i in range(0,5000,100):\n",
        "      x1=xmnist[i:i+100]\n",
        "      x2=xmnistm[i:i+100]\n",
        "      y=ymnist[i:i+100]\n",
        "      test(x1,x2,y)\n",
        "    template = 'Epoch {}, mnist Accuracy: {} , mnist-m Accuracy: {}'\n",
        "    if e%1 == 0:\n",
        "      print(template.format(e+1,mnsistacc.result()*100,mnsistmacc.result()*100))"
      ],
      "execution_count": 20,
      "outputs": []
    },
    {
      "cell_type": "code",
      "metadata": {
        "colab": {
          "base_uri": "https://localhost:8080/",
          "height": 1000
        },
        "id": "eHQHV07wz4Em",
        "outputId": "777b2351-f8a6-412e-e5f6-25e659d414f3"
      },
      "source": [
        "train(100)"
      ],
      "execution_count": 21,
      "outputs": [
        {
          "output_type": "stream",
          "text": [
            "Epoch 1, mnist Accuracy: 32.0 , mnist-m Accuracy: 13.160000801086426\n",
            "Epoch 2, mnist Accuracy: 74.81999969482422 , mnist-m Accuracy: 12.620000839233398\n",
            "Epoch 3, mnist Accuracy: 93.9000015258789 , mnist-m Accuracy: 25.700000762939453\n",
            "Epoch 4, mnist Accuracy: 95.44000244140625 , mnist-m Accuracy: 38.0\n",
            "Epoch 5, mnist Accuracy: 97.41999816894531 , mnist-m Accuracy: 44.18000030517578\n",
            "Epoch 6, mnist Accuracy: 98.0199966430664 , mnist-m Accuracy: 41.220001220703125\n",
            "Epoch 7, mnist Accuracy: 97.93999481201172 , mnist-m Accuracy: 57.720001220703125\n",
            "Epoch 8, mnist Accuracy: 97.75999450683594 , mnist-m Accuracy: 64.9800033569336\n",
            "Epoch 9, mnist Accuracy: 97.68000030517578 , mnist-m Accuracy: 66.0199966430664\n",
            "Epoch 10, mnist Accuracy: 97.13999938964844 , mnist-m Accuracy: 66.6199951171875\n",
            "Epoch 11, mnist Accuracy: 97.63999938964844 , mnist-m Accuracy: 70.16000366210938\n",
            "Epoch 12, mnist Accuracy: 98.0 , mnist-m Accuracy: 72.86000061035156\n",
            "Epoch 13, mnist Accuracy: 97.57999420166016 , mnist-m Accuracy: 72.31999969482422\n",
            "Epoch 14, mnist Accuracy: 96.22000122070312 , mnist-m Accuracy: 64.7800064086914\n",
            "Epoch 15, mnist Accuracy: 98.91999816894531 , mnist-m Accuracy: 75.4800033569336\n",
            "Epoch 16, mnist Accuracy: 97.6199951171875 , mnist-m Accuracy: 74.31999969482422\n",
            "Epoch 17, mnist Accuracy: 99.04000091552734 , mnist-m Accuracy: 79.5999984741211\n",
            "Epoch 18, mnist Accuracy: 98.87999725341797 , mnist-m Accuracy: 79.45999908447266\n",
            "Epoch 19, mnist Accuracy: 98.69999694824219 , mnist-m Accuracy: 72.39999389648438\n",
            "Epoch 20, mnist Accuracy: 98.55999755859375 , mnist-m Accuracy: 74.0199966430664\n",
            "Epoch 21, mnist Accuracy: 98.43999481201172 , mnist-m Accuracy: 75.45999908447266\n",
            "Epoch 22, mnist Accuracy: 99.29999542236328 , mnist-m Accuracy: 80.33999633789062\n",
            "Epoch 23, mnist Accuracy: 99.36000061035156 , mnist-m Accuracy: 79.43999481201172\n",
            "Epoch 24, mnist Accuracy: 98.5199966430664 , mnist-m Accuracy: 76.54000091552734\n",
            "Epoch 25, mnist Accuracy: 99.41999816894531 , mnist-m Accuracy: 79.9000015258789\n",
            "Epoch 26, mnist Accuracy: 99.26000213623047 , mnist-m Accuracy: 80.0199966430664\n",
            "Epoch 27, mnist Accuracy: 99.23999786376953 , mnist-m Accuracy: 81.04000091552734\n",
            "Epoch 28, mnist Accuracy: 99.58000183105469 , mnist-m Accuracy: 81.5999984741211\n",
            "Epoch 29, mnist Accuracy: 99.0199966430664 , mnist-m Accuracy: 77.60000610351562\n",
            "Epoch 30, mnist Accuracy: 99.54000091552734 , mnist-m Accuracy: 81.84000396728516\n",
            "Epoch 31, mnist Accuracy: 99.0 , mnist-m Accuracy: 78.5199966430664\n",
            "Epoch 32, mnist Accuracy: 99.47999572753906 , mnist-m Accuracy: 81.4800033569336\n",
            "Epoch 33, mnist Accuracy: 99.15999603271484 , mnist-m Accuracy: 80.29999542236328\n",
            "Epoch 34, mnist Accuracy: 99.5199966430664 , mnist-m Accuracy: 79.97999572753906\n",
            "Epoch 35, mnist Accuracy: 99.5999984741211 , mnist-m Accuracy: 79.13999938964844\n",
            "Epoch 36, mnist Accuracy: 99.37999725341797 , mnist-m Accuracy: 80.4000015258789\n",
            "Epoch 37, mnist Accuracy: 99.41999816894531 , mnist-m Accuracy: 79.18000030517578\n",
            "Epoch 38, mnist Accuracy: 99.69999694824219 , mnist-m Accuracy: 81.27999877929688\n",
            "Epoch 39, mnist Accuracy: 99.69999694824219 , mnist-m Accuracy: 80.5999984741211\n",
            "Epoch 40, mnist Accuracy: 99.68000030517578 , mnist-m Accuracy: 82.27999877929688\n",
            "Epoch 41, mnist Accuracy: 99.47999572753906 , mnist-m Accuracy: 80.87999725341797\n",
            "Epoch 42, mnist Accuracy: 99.62000274658203 , mnist-m Accuracy: 81.81999969482422\n",
            "Epoch 43, mnist Accuracy: 99.41999816894531 , mnist-m Accuracy: 82.9800033569336\n",
            "Epoch 44, mnist Accuracy: 99.54000091552734 , mnist-m Accuracy: 82.3800048828125\n",
            "Epoch 45, mnist Accuracy: 99.37999725341797 , mnist-m Accuracy: 80.44000244140625\n",
            "Epoch 46, mnist Accuracy: 99.76000213623047 , mnist-m Accuracy: 81.94000244140625\n",
            "Epoch 47, mnist Accuracy: 99.54000091552734 , mnist-m Accuracy: 78.87999725341797\n",
            "Epoch 48, mnist Accuracy: 99.45999908447266 , mnist-m Accuracy: 81.23999786376953\n"
          ],
          "name": "stdout"
        },
        {
          "output_type": "error",
          "ename": "KeyboardInterrupt",
          "evalue": "ignored",
          "traceback": [
            "\u001b[0;31m---------------------------------------------------------------------------\u001b[0m",
            "\u001b[0;31mKeyboardInterrupt\u001b[0m                         Traceback (most recent call last)",
            "\u001b[0;32m<ipython-input-21-51afd2885487>\u001b[0m in \u001b[0;36m<module>\u001b[0;34m()\u001b[0m\n\u001b[0;32m----> 1\u001b[0;31m \u001b[0mtrain\u001b[0m\u001b[0;34m(\u001b[0m\u001b[0;36m100\u001b[0m\u001b[0;34m)\u001b[0m\u001b[0;34m\u001b[0m\u001b[0;34m\u001b[0m\u001b[0m\n\u001b[0m",
            "\u001b[0;32m<ipython-input-20-3352e6ce9442>\u001b[0m in \u001b[0;36mtrain\u001b[0;34m(epochs)\u001b[0m\n\u001b[1;32m      8\u001b[0m       \u001b[0mx2\u001b[0m\u001b[0;34m=\u001b[0m\u001b[0mxmm\u001b[0m\u001b[0;34m[\u001b[0m\u001b[0mi\u001b[0m\u001b[0;34m:\u001b[0m\u001b[0mi\u001b[0m\u001b[0;34m+\u001b[0m\u001b[0;36m32\u001b[0m\u001b[0;34m]\u001b[0m\u001b[0;34m\u001b[0m\u001b[0;34m\u001b[0m\u001b[0m\n\u001b[1;32m      9\u001b[0m       \u001b[0my2\u001b[0m\u001b[0;34m=\u001b[0m\u001b[0mymm\u001b[0m\u001b[0;34m[\u001b[0m\u001b[0mi\u001b[0m\u001b[0;34m:\u001b[0m\u001b[0mi\u001b[0m\u001b[0;34m+\u001b[0m\u001b[0;36m32\u001b[0m\u001b[0;34m]\u001b[0m\u001b[0;34m\u001b[0m\u001b[0;34m\u001b[0m\u001b[0m\n\u001b[0;32m---> 10\u001b[0;31m       \u001b[0mtrain_step\u001b[0m\u001b[0;34m(\u001b[0m\u001b[0mx1\u001b[0m\u001b[0;34m,\u001b[0m\u001b[0my1\u001b[0m\u001b[0;34m,\u001b[0m\u001b[0mx2\u001b[0m\u001b[0;34m,\u001b[0m\u001b[0my2\u001b[0m\u001b[0;34m)\u001b[0m\u001b[0;34m\u001b[0m\u001b[0;34m\u001b[0m\u001b[0m\n\u001b[0m\u001b[1;32m     11\u001b[0m \u001b[0;34m\u001b[0m\u001b[0m\n\u001b[1;32m     12\u001b[0m     \u001b[0;32mfor\u001b[0m \u001b[0mi\u001b[0m \u001b[0;32min\u001b[0m \u001b[0mrange\u001b[0m\u001b[0;34m(\u001b[0m\u001b[0;36m0\u001b[0m\u001b[0;34m,\u001b[0m\u001b[0;36m5000\u001b[0m\u001b[0;34m,\u001b[0m\u001b[0;36m100\u001b[0m\u001b[0;34m)\u001b[0m\u001b[0;34m:\u001b[0m\u001b[0;34m\u001b[0m\u001b[0;34m\u001b[0m\u001b[0m\n",
            "\u001b[0;32m<ipython-input-10-69fbf22e15d6>\u001b[0m in \u001b[0;36mtrain_step\u001b[0;34m(x1, y1, x2, y2, alpha)\u001b[0m\n\u001b[1;32m      5\u001b[0m     \u001b[0mlossc\u001b[0m\u001b[0;34m=\u001b[0m\u001b[0mloss\u001b[0m\u001b[0;34m(\u001b[0m\u001b[0my1\u001b[0m\u001b[0;34m,\u001b[0m\u001b[0myc\u001b[0m\u001b[0;34m)\u001b[0m\u001b[0;34m\u001b[0m\u001b[0;34m\u001b[0m\u001b[0m\n\u001b[1;32m      6\u001b[0m \u001b[0;34m\u001b[0m\u001b[0m\n\u001b[0;32m----> 7\u001b[0;31m     \u001b[0mff2\u001b[0m\u001b[0;34m=\u001b[0m\u001b[0mencoder\u001b[0m\u001b[0;34m(\u001b[0m\u001b[0mx2\u001b[0m\u001b[0;34m,\u001b[0m \u001b[0mtraining\u001b[0m\u001b[0;34m=\u001b[0m\u001b[0;32mTrue\u001b[0m\u001b[0;34m)\u001b[0m\u001b[0;34m\u001b[0m\u001b[0;34m\u001b[0m\u001b[0m\n\u001b[0m\u001b[1;32m      8\u001b[0m     \u001b[0myc2\u001b[0m\u001b[0;34m=\u001b[0m\u001b[0mdis\u001b[0m\u001b[0;34m(\u001b[0m\u001b[0mff2\u001b[0m\u001b[0;34m,\u001b[0m \u001b[0mtraining\u001b[0m\u001b[0;34m=\u001b[0m\u001b[0;32mTrue\u001b[0m\u001b[0;34m)\u001b[0m\u001b[0;34m\u001b[0m\u001b[0;34m\u001b[0m\u001b[0m\n\u001b[1;32m      9\u001b[0m     \u001b[0mlossd\u001b[0m\u001b[0;34m=\u001b[0m\u001b[0mloss\u001b[0m\u001b[0;34m(\u001b[0m\u001b[0my2\u001b[0m\u001b[0;34m,\u001b[0m\u001b[0myc2\u001b[0m\u001b[0;34m)\u001b[0m\u001b[0;34m\u001b[0m\u001b[0;34m\u001b[0m\u001b[0m\n",
            "\u001b[0;32m/usr/local/lib/python3.7/dist-packages/tensorflow/python/keras/engine/base_layer.py\u001b[0m in \u001b[0;36m__call__\u001b[0;34m(self, *args, **kwargs)\u001b[0m\n\u001b[1;32m   1028\u001b[0m         with autocast_variable.enable_auto_cast_variables(\n\u001b[1;32m   1029\u001b[0m             self._compute_dtype_object):\n\u001b[0;32m-> 1030\u001b[0;31m           \u001b[0moutputs\u001b[0m \u001b[0;34m=\u001b[0m \u001b[0mcall_fn\u001b[0m\u001b[0;34m(\u001b[0m\u001b[0minputs\u001b[0m\u001b[0;34m,\u001b[0m \u001b[0;34m*\u001b[0m\u001b[0margs\u001b[0m\u001b[0;34m,\u001b[0m \u001b[0;34m**\u001b[0m\u001b[0mkwargs\u001b[0m\u001b[0;34m)\u001b[0m\u001b[0;34m\u001b[0m\u001b[0;34m\u001b[0m\u001b[0m\n\u001b[0m\u001b[1;32m   1031\u001b[0m \u001b[0;34m\u001b[0m\u001b[0m\n\u001b[1;32m   1032\u001b[0m         \u001b[0;32mif\u001b[0m \u001b[0mself\u001b[0m\u001b[0;34m.\u001b[0m\u001b[0m_activity_regularizer\u001b[0m\u001b[0;34m:\u001b[0m\u001b[0;34m\u001b[0m\u001b[0;34m\u001b[0m\u001b[0m\n",
            "\u001b[0;32m<ipython-input-6-71f7829d28f1>\u001b[0m in \u001b[0;36mcall\u001b[0;34m(self, x)\u001b[0m\n\u001b[1;32m      9\u001b[0m \u001b[0;34m\u001b[0m\u001b[0m\n\u001b[1;32m     10\u001b[0m   \u001b[0;32mdef\u001b[0m \u001b[0mcall\u001b[0m\u001b[0;34m(\u001b[0m\u001b[0mself\u001b[0m\u001b[0;34m,\u001b[0m \u001b[0mx\u001b[0m\u001b[0;34m)\u001b[0m\u001b[0;34m:\u001b[0m\u001b[0;34m\u001b[0m\u001b[0;34m\u001b[0m\u001b[0m\n\u001b[0;32m---> 11\u001b[0;31m     \u001b[0mx\u001b[0m \u001b[0;34m=\u001b[0m \u001b[0mself\u001b[0m\u001b[0;34m.\u001b[0m\u001b[0mnormalise\u001b[0m\u001b[0;34m(\u001b[0m\u001b[0mx\u001b[0m\u001b[0;34m)\u001b[0m\u001b[0;34m\u001b[0m\u001b[0;34m\u001b[0m\u001b[0m\n\u001b[0m\u001b[1;32m     12\u001b[0m     \u001b[0mx\u001b[0m \u001b[0;34m=\u001b[0m \u001b[0mself\u001b[0m\u001b[0;34m.\u001b[0m\u001b[0mconv1\u001b[0m\u001b[0;34m(\u001b[0m\u001b[0mx\u001b[0m\u001b[0;34m)\u001b[0m\u001b[0;34m\u001b[0m\u001b[0;34m\u001b[0m\u001b[0m\n\u001b[1;32m     13\u001b[0m     \u001b[0mx\u001b[0m \u001b[0;34m=\u001b[0m \u001b[0mself\u001b[0m\u001b[0;34m.\u001b[0m\u001b[0mconv2\u001b[0m\u001b[0;34m(\u001b[0m\u001b[0mx\u001b[0m\u001b[0;34m)\u001b[0m\u001b[0;34m\u001b[0m\u001b[0;34m\u001b[0m\u001b[0m\n",
            "\u001b[0;32m<ipython-input-6-71f7829d28f1>\u001b[0m in \u001b[0;36m<lambda>\u001b[0;34m(x)\u001b[0m\n\u001b[1;32m      2\u001b[0m   \u001b[0;32mdef\u001b[0m \u001b[0m__init__\u001b[0m\u001b[0;34m(\u001b[0m\u001b[0mself\u001b[0m\u001b[0;34m)\u001b[0m\u001b[0;34m:\u001b[0m\u001b[0;34m\u001b[0m\u001b[0;34m\u001b[0m\u001b[0m\n\u001b[1;32m      3\u001b[0m     \u001b[0msuper\u001b[0m\u001b[0;34m(\u001b[0m\u001b[0mFeatureGenerator\u001b[0m\u001b[0;34m,\u001b[0m \u001b[0mself\u001b[0m\u001b[0;34m)\u001b[0m\u001b[0;34m.\u001b[0m\u001b[0m__init__\u001b[0m\u001b[0;34m(\u001b[0m\u001b[0;34m)\u001b[0m\u001b[0;34m\u001b[0m\u001b[0;34m\u001b[0m\u001b[0m\n\u001b[0;32m----> 4\u001b[0;31m     \u001b[0mself\u001b[0m\u001b[0;34m.\u001b[0m\u001b[0mnormalise\u001b[0m \u001b[0;34m=\u001b[0m \u001b[0;32mlambda\u001b[0m \u001b[0mx\u001b[0m\u001b[0;34m:\u001b[0m\u001b[0mx\u001b[0m \u001b[0;34m/\u001b[0m \u001b[0;36m255.0\u001b[0m\u001b[0;34m\u001b[0m\u001b[0;34m\u001b[0m\u001b[0m\n\u001b[0m\u001b[1;32m      5\u001b[0m     \u001b[0mself\u001b[0m\u001b[0;34m.\u001b[0m\u001b[0mconv1\u001b[0m \u001b[0;34m=\u001b[0m \u001b[0mtf\u001b[0m\u001b[0;34m.\u001b[0m\u001b[0mkeras\u001b[0m\u001b[0;34m.\u001b[0m\u001b[0mlayers\u001b[0m\u001b[0;34m.\u001b[0m\u001b[0mConv2D\u001b[0m\u001b[0;34m(\u001b[0m\u001b[0;36m64\u001b[0m\u001b[0;34m,\u001b[0m \u001b[0;36m5\u001b[0m\u001b[0;34m,\u001b[0m \u001b[0mactivation\u001b[0m\u001b[0;34m=\u001b[0m\u001b[0;34m'relu'\u001b[0m\u001b[0;34m)\u001b[0m\u001b[0;34m\u001b[0m\u001b[0;34m\u001b[0m\u001b[0m\n\u001b[1;32m      6\u001b[0m     \u001b[0mself\u001b[0m\u001b[0;34m.\u001b[0m\u001b[0mconv2\u001b[0m \u001b[0;34m=\u001b[0m \u001b[0mtf\u001b[0m\u001b[0;34m.\u001b[0m\u001b[0mkeras\u001b[0m\u001b[0;34m.\u001b[0m\u001b[0mlayers\u001b[0m\u001b[0;34m.\u001b[0m\u001b[0mConv2D\u001b[0m\u001b[0;34m(\u001b[0m\u001b[0;36m128\u001b[0m\u001b[0;34m,\u001b[0m \u001b[0;36m5\u001b[0m\u001b[0;34m,\u001b[0m \u001b[0mactivation\u001b[0m\u001b[0;34m=\u001b[0m\u001b[0;34m'relu'\u001b[0m\u001b[0;34m)\u001b[0m\u001b[0;34m\u001b[0m\u001b[0;34m\u001b[0m\u001b[0m\n",
            "\u001b[0;32m/usr/local/lib/python3.7/dist-packages/tensorflow/python/ops/math_ops.py\u001b[0m in \u001b[0;36mbinary_op_wrapper\u001b[0;34m(x, y)\u001b[0m\n\u001b[1;32m   1232\u001b[0m         \u001b[0;31m#   r_binary_op_wrapper use different force_same_dtype values.\u001b[0m\u001b[0;34m\u001b[0m\u001b[0;34m\u001b[0m\u001b[0;34m\u001b[0m\u001b[0m\n\u001b[1;32m   1233\u001b[0m         \u001b[0mx\u001b[0m\u001b[0;34m,\u001b[0m \u001b[0my\u001b[0m \u001b[0;34m=\u001b[0m \u001b[0mmaybe_promote_tensors\u001b[0m\u001b[0;34m(\u001b[0m\u001b[0mx\u001b[0m\u001b[0;34m,\u001b[0m \u001b[0my\u001b[0m\u001b[0;34m,\u001b[0m \u001b[0mforce_same_dtype\u001b[0m\u001b[0;34m=\u001b[0m\u001b[0;32mFalse\u001b[0m\u001b[0;34m)\u001b[0m\u001b[0;34m\u001b[0m\u001b[0;34m\u001b[0m\u001b[0m\n\u001b[0;32m-> 1234\u001b[0;31m         \u001b[0;32mreturn\u001b[0m \u001b[0mfunc\u001b[0m\u001b[0;34m(\u001b[0m\u001b[0mx\u001b[0m\u001b[0;34m,\u001b[0m \u001b[0my\u001b[0m\u001b[0;34m,\u001b[0m \u001b[0mname\u001b[0m\u001b[0;34m=\u001b[0m\u001b[0mname\u001b[0m\u001b[0;34m)\u001b[0m\u001b[0;34m\u001b[0m\u001b[0;34m\u001b[0m\u001b[0m\n\u001b[0m\u001b[1;32m   1235\u001b[0m       \u001b[0;32mexcept\u001b[0m \u001b[0;34m(\u001b[0m\u001b[0mTypeError\u001b[0m\u001b[0;34m,\u001b[0m \u001b[0mValueError\u001b[0m\u001b[0;34m)\u001b[0m \u001b[0;32mas\u001b[0m \u001b[0me\u001b[0m\u001b[0;34m:\u001b[0m\u001b[0;34m\u001b[0m\u001b[0;34m\u001b[0m\u001b[0m\n\u001b[1;32m   1236\u001b[0m         \u001b[0;31m# Even if dispatching the op failed, the RHS may be a tensor aware\u001b[0m\u001b[0;34m\u001b[0m\u001b[0;34m\u001b[0m\u001b[0;34m\u001b[0m\u001b[0m\n",
            "\u001b[0;32m/usr/local/lib/python3.7/dist-packages/tensorflow/python/util/dispatch.py\u001b[0m in \u001b[0;36mwrapper\u001b[0;34m(*args, **kwargs)\u001b[0m\n\u001b[1;32m    204\u001b[0m     \u001b[0;34m\"\"\"Call target, and fall back on dispatchers if there is a TypeError.\"\"\"\u001b[0m\u001b[0;34m\u001b[0m\u001b[0;34m\u001b[0m\u001b[0m\n\u001b[1;32m    205\u001b[0m     \u001b[0;32mtry\u001b[0m\u001b[0;34m:\u001b[0m\u001b[0;34m\u001b[0m\u001b[0;34m\u001b[0m\u001b[0m\n\u001b[0;32m--> 206\u001b[0;31m       \u001b[0;32mreturn\u001b[0m \u001b[0mtarget\u001b[0m\u001b[0;34m(\u001b[0m\u001b[0;34m*\u001b[0m\u001b[0margs\u001b[0m\u001b[0;34m,\u001b[0m \u001b[0;34m**\u001b[0m\u001b[0mkwargs\u001b[0m\u001b[0;34m)\u001b[0m\u001b[0;34m\u001b[0m\u001b[0;34m\u001b[0m\u001b[0m\n\u001b[0m\u001b[1;32m    207\u001b[0m     \u001b[0;32mexcept\u001b[0m \u001b[0;34m(\u001b[0m\u001b[0mTypeError\u001b[0m\u001b[0;34m,\u001b[0m \u001b[0mValueError\u001b[0m\u001b[0;34m)\u001b[0m\u001b[0;34m:\u001b[0m\u001b[0;34m\u001b[0m\u001b[0;34m\u001b[0m\u001b[0m\n\u001b[1;32m    208\u001b[0m       \u001b[0;31m# Note: convert_to_eager_tensor currently raises a ValueError, not a\u001b[0m\u001b[0;34m\u001b[0m\u001b[0;34m\u001b[0m\u001b[0;34m\u001b[0m\u001b[0m\n",
            "\u001b[0;32m/usr/local/lib/python3.7/dist-packages/tensorflow/python/ops/math_ops.py\u001b[0m in \u001b[0;36mtruediv\u001b[0;34m(x, y, name)\u001b[0m\n\u001b[1;32m   1406\u001b[0m     \u001b[0mTypeError\u001b[0m\u001b[0;34m:\u001b[0m \u001b[0mIf\u001b[0m\u001b[0;31m \u001b[0m\u001b[0;31m`\u001b[0m\u001b[0mx\u001b[0m\u001b[0;31m`\u001b[0m \u001b[0;32mand\u001b[0m\u001b[0;31m \u001b[0m\u001b[0;31m`\u001b[0m\u001b[0my\u001b[0m\u001b[0;31m`\u001b[0m \u001b[0mhave\u001b[0m \u001b[0mdifferent\u001b[0m \u001b[0mdtypes\u001b[0m\u001b[0;34m.\u001b[0m\u001b[0;34m\u001b[0m\u001b[0;34m\u001b[0m\u001b[0m\n\u001b[1;32m   1407\u001b[0m   \"\"\"\n\u001b[0;32m-> 1408\u001b[0;31m   \u001b[0;32mreturn\u001b[0m \u001b[0m_truediv_python3\u001b[0m\u001b[0;34m(\u001b[0m\u001b[0mx\u001b[0m\u001b[0;34m,\u001b[0m \u001b[0my\u001b[0m\u001b[0;34m,\u001b[0m \u001b[0mname\u001b[0m\u001b[0;34m)\u001b[0m\u001b[0;34m\u001b[0m\u001b[0;34m\u001b[0m\u001b[0m\n\u001b[0m\u001b[1;32m   1409\u001b[0m \u001b[0;34m\u001b[0m\u001b[0m\n\u001b[1;32m   1410\u001b[0m \u001b[0;34m\u001b[0m\u001b[0m\n",
            "\u001b[0;32m/usr/local/lib/python3.7/dist-packages/tensorflow/python/ops/math_ops.py\u001b[0m in \u001b[0;36m_truediv_python3\u001b[0;34m(x, y, name)\u001b[0m\n\u001b[1;32m   1345\u001b[0m       \u001b[0mx\u001b[0m \u001b[0;34m=\u001b[0m \u001b[0mcast\u001b[0m\u001b[0;34m(\u001b[0m\u001b[0mx\u001b[0m\u001b[0;34m,\u001b[0m \u001b[0mdtype\u001b[0m\u001b[0;34m)\u001b[0m\u001b[0;34m\u001b[0m\u001b[0;34m\u001b[0m\u001b[0m\n\u001b[1;32m   1346\u001b[0m       \u001b[0my\u001b[0m \u001b[0;34m=\u001b[0m \u001b[0mcast\u001b[0m\u001b[0;34m(\u001b[0m\u001b[0my\u001b[0m\u001b[0;34m,\u001b[0m \u001b[0mdtype\u001b[0m\u001b[0;34m)\u001b[0m\u001b[0;34m\u001b[0m\u001b[0;34m\u001b[0m\u001b[0m\n\u001b[0;32m-> 1347\u001b[0;31m     \u001b[0;32mreturn\u001b[0m \u001b[0mgen_math_ops\u001b[0m\u001b[0;34m.\u001b[0m\u001b[0mreal_div\u001b[0m\u001b[0;34m(\u001b[0m\u001b[0mx\u001b[0m\u001b[0;34m,\u001b[0m \u001b[0my\u001b[0m\u001b[0;34m,\u001b[0m \u001b[0mname\u001b[0m\u001b[0;34m=\u001b[0m\u001b[0mname\u001b[0m\u001b[0;34m)\u001b[0m\u001b[0;34m\u001b[0m\u001b[0;34m\u001b[0m\u001b[0m\n\u001b[0m\u001b[1;32m   1348\u001b[0m \u001b[0;34m\u001b[0m\u001b[0m\n\u001b[1;32m   1349\u001b[0m \u001b[0;34m\u001b[0m\u001b[0m\n",
            "\u001b[0;32m/usr/local/lib/python3.7/dist-packages/tensorflow/python/ops/gen_math_ops.py\u001b[0m in \u001b[0;36mreal_div\u001b[0;34m(x, y, name)\u001b[0m\n\u001b[1;32m   7496\u001b[0m     \u001b[0;32mtry\u001b[0m\u001b[0;34m:\u001b[0m\u001b[0;34m\u001b[0m\u001b[0;34m\u001b[0m\u001b[0m\n\u001b[1;32m   7497\u001b[0m       _result = pywrap_tfe.TFE_Py_FastPathExecute(\n\u001b[0;32m-> 7498\u001b[0;31m         _ctx, \"RealDiv\", name, x, y)\n\u001b[0m\u001b[1;32m   7499\u001b[0m       \u001b[0;32mreturn\u001b[0m \u001b[0m_result\u001b[0m\u001b[0;34m\u001b[0m\u001b[0;34m\u001b[0m\u001b[0m\n\u001b[1;32m   7500\u001b[0m     \u001b[0;32mexcept\u001b[0m \u001b[0m_core\u001b[0m\u001b[0;34m.\u001b[0m\u001b[0m_NotOkStatusException\u001b[0m \u001b[0;32mas\u001b[0m \u001b[0me\u001b[0m\u001b[0;34m:\u001b[0m\u001b[0;34m\u001b[0m\u001b[0;34m\u001b[0m\u001b[0m\n",
            "\u001b[0;31mKeyboardInterrupt\u001b[0m: "
          ]
        }
      ]
    },
    {
      "cell_type": "code",
      "metadata": {
        "colab": {
          "base_uri": "https://localhost:8080/",
          "height": 317
        },
        "id": "criL1i20r-W5",
        "outputId": "94cebd49-1c26-4326-9bba-5b94dc62feba"
      },
      "source": [
        "o=34000\n",
        "preds=encoder(np.reshape(xmnistm[o],(1,28,28,3)))\n",
        "preds=clas(preds)\n",
        "print(np.argmax(preds,1))\n",
        "print(np.argmax(ymnist[o]))\n",
        "plt.imshow(xmnistm[o]/255)"
      ],
      "execution_count": 32,
      "outputs": [
        {
          "output_type": "stream",
          "text": [
            "[4]\n",
            "4\n"
          ],
          "name": "stdout"
        },
        {
          "output_type": "execute_result",
          "data": {
            "text/plain": [
              "<matplotlib.image.AxesImage at 0x7f177b2cfcd0>"
            ]
          },
          "metadata": {
            "tags": []
          },
          "execution_count": 32
        },
        {
          "output_type": "display_data",
          "data": {
            "image/png": "[encoded data removed]",
            "text/plain": [
              "<Figure size 432x288 with 1 Axes>"
            ]
          },
          "metadata": {
            "tags": [],
            "needs_background": "light"
          }
        }
      ]
    },
    {
      "cell_type": "code",
      "metadata": {
        "id": "AfOcRGmXsP7u"
      },
      "source": [
        ""
      ],
      "execution_count": null,
      "outputs": []
    }
  ]
}